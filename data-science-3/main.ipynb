{
 "cells": [
  {
   "cell_type": "markdown",
   "metadata": {},
   "source": [
    "# Desafio 5\n",
    "\n",
    "Neste desafio, vamos praticar sobre redução de dimensionalidade com PCA e seleção de variáveis com RFE. Utilizaremos o _data set_ [Fifa 2019](https://www.kaggle.com/karangadiya/fifa19), contendo originalmente 89 variáveis de mais de 18 mil jogadores do _game_ FIFA 2019.\n",
    "\n",
    "> Obs.: Por favor, não modifique o nome das funções de resposta."
   ]
  },
  {
   "cell_type": "markdown",
   "metadata": {},
   "source": [
    "## _Setup_ geral"
   ]
  },
  {
   "cell_type": "code",
   "execution_count": 1,
   "metadata": {
    "ExecuteTime": {
     "end_time": "2020-08-01T18:39:24.330137Z",
     "start_time": "2020-08-01T18:39:22.839462Z"
    }
   },
   "outputs": [],
   "source": [
    "from math import sqrt\n",
    "\n",
    "import pandas as pd\n",
    "import matplotlib.pyplot as plt\n",
    "import numpy as np\n",
    "import scipy.stats as sct\n",
    "import seaborn as sns\n",
    "import statsmodels.api as sm\n",
    "import statsmodels.stats as st\n",
    "from sklearn.decomposition import PCA\n",
    "from sklearn.feature_selection import RFE\n",
    "from sklearn.linear_model import LinearRegression\n",
    "\n",
    "from loguru import logger"
   ]
  },
  {
   "cell_type": "code",
   "execution_count": 2,
   "metadata": {
    "ExecuteTime": {
     "end_time": "2020-08-01T18:39:24.762036Z",
     "start_time": "2020-08-01T18:39:24.332611Z"
    },
    "scrolled": false
   },
   "outputs": [
    {
     "data": {
      "text/plain": [
       "(89,)"
      ]
     },
     "execution_count": 2,
     "metadata": {},
     "output_type": "execute_result"
    }
   ],
   "source": [
    "fifa = pd.read_csv(\"fifa.csv\")\n",
    "fifa.columns.shape"
   ]
  },
  {
   "cell_type": "code",
   "execution_count": 3,
   "metadata": {
    "ExecuteTime": {
     "end_time": "2020-08-01T18:39:24.796074Z",
     "start_time": "2020-08-01T18:39:24.767975Z"
    }
   },
   "outputs": [],
   "source": [
    "columns_to_drop = [\"Unnamed: 0\", \"ID\", \"Name\", \"Photo\", \"Nationality\", \"Flag\",\n",
    "                   \"Club\", \"Club Logo\", \"Value\", \"Wage\", \"Special\", \"Preferred Foot\",\n",
    "                   \"International Reputation\", \"Weak Foot\", \"Skill Moves\", \"Work Rate\",\n",
    "                   \"Body Type\", \"Real Face\", \"Position\", \"Jersey Number\", \"Joined\",\n",
    "                   \"Loaned From\", \"Contract Valid Until\", \"Height\", \"Weight\", \"LS\",\n",
    "                   \"ST\", \"RS\", \"LW\", \"LF\", \"CF\", \"RF\", \"RW\", \"LAM\", \"CAM\", \"RAM\", \"LM\",\n",
    "                   \"LCM\", \"CM\", \"RCM\", \"RM\", \"LWB\", \"LDM\", \"CDM\", \"RDM\", \"RWB\", \"LB\", \"LCB\",\n",
    "                   \"CB\", \"RCB\", \"RB\", \"Release Clause\"\n",
    "]\n",
    "\n",
    "try:\n",
    "    fifa.drop(columns_to_drop, axis=1, inplace=True)\n",
    "except KeyError:\n",
    "    logger.warning(f\"Columns already dropped\")"
   ]
  },
  {
   "cell_type": "markdown",
   "metadata": {},
   "source": [
    "## Inicia sua análise a partir daqui"
   ]
  },
  {
   "cell_type": "code",
   "execution_count": 4,
   "metadata": {
    "ExecuteTime": {
     "end_time": "2020-08-01T18:39:24.806544Z",
     "start_time": "2020-08-01T18:39:24.799441Z"
    }
   },
   "outputs": [
    {
     "data": {
      "text/plain": [
       "(37,)"
      ]
     },
     "execution_count": 4,
     "metadata": {},
     "output_type": "execute_result"
    }
   ],
   "source": [
    "fifa.head()\n",
    "fifa.columns.shape"
   ]
  },
  {
   "cell_type": "code",
   "execution_count": 5,
   "metadata": {
    "ExecuteTime": {
     "end_time": "2020-08-01T18:39:24.848449Z",
     "start_time": "2020-08-01T18:39:24.809897Z"
    }
   },
   "outputs": [
    {
     "name": "stdout",
     "output_type": "stream",
     "text": [
      "<class 'pandas.core.frame.DataFrame'>\n",
      "RangeIndex: 18207 entries, 0 to 18206\n",
      "Data columns (total 37 columns):\n",
      "Age                18207 non-null int64\n",
      "Overall            18207 non-null int64\n",
      "Potential          18207 non-null int64\n",
      "Crossing           18159 non-null float64\n",
      "Finishing          18159 non-null float64\n",
      "HeadingAccuracy    18159 non-null float64\n",
      "ShortPassing       18159 non-null float64\n",
      "Volleys            18159 non-null float64\n",
      "Dribbling          18159 non-null float64\n",
      "Curve              18159 non-null float64\n",
      "FKAccuracy         18159 non-null float64\n",
      "LongPassing        18159 non-null float64\n",
      "BallControl        18159 non-null float64\n",
      "Acceleration       18159 non-null float64\n",
      "SprintSpeed        18159 non-null float64\n",
      "Agility            18159 non-null float64\n",
      "Reactions          18159 non-null float64\n",
      "Balance            18159 non-null float64\n",
      "ShotPower          18159 non-null float64\n",
      "Jumping            18159 non-null float64\n",
      "Stamina            18159 non-null float64\n",
      "Strength           18159 non-null float64\n",
      "LongShots          18159 non-null float64\n",
      "Aggression         18159 non-null float64\n",
      "Interceptions      18159 non-null float64\n",
      "Positioning        18159 non-null float64\n",
      "Vision             18159 non-null float64\n",
      "Penalties          18159 non-null float64\n",
      "Composure          18159 non-null float64\n",
      "Marking            18159 non-null float64\n",
      "StandingTackle     18159 non-null float64\n",
      "SlidingTackle      18159 non-null float64\n",
      "GKDiving           18159 non-null float64\n",
      "GKHandling         18159 non-null float64\n",
      "GKKicking          18159 non-null float64\n",
      "GKPositioning      18159 non-null float64\n",
      "GKReflexes         18159 non-null float64\n",
      "dtypes: float64(34), int64(3)\n",
      "memory usage: 5.1 MB\n"
     ]
    }
   ],
   "source": [
    "fifa.info()"
   ]
  },
  {
   "cell_type": "code",
   "execution_count": 6,
   "metadata": {
    "ExecuteTime": {
     "end_time": "2020-08-01T18:39:24.866196Z",
     "start_time": "2020-08-01T18:39:24.852857Z"
    }
   },
   "outputs": [
    {
     "data": {
      "text/plain": [
       "(48, 37)"
      ]
     },
     "execution_count": 6,
     "metadata": {},
     "output_type": "execute_result"
    }
   ],
   "source": [
    "fifa[fifa['Crossing'].isnull()].shape"
   ]
  },
  {
   "cell_type": "code",
   "execution_count": 7,
   "metadata": {
    "ExecuteTime": {
     "end_time": "2020-08-01T18:39:24.909281Z",
     "start_time": "2020-08-01T18:39:24.872019Z"
    }
   },
   "outputs": [
    {
     "data": {
      "text/plain": [
       "(18159, 37)"
      ]
     },
     "execution_count": 7,
     "metadata": {},
     "output_type": "execute_result"
    }
   ],
   "source": [
    "fifa2 = fifa.copy().dropna(axis=0)\n",
    "fifa2.shape"
   ]
  },
  {
   "cell_type": "markdown",
   "metadata": {},
   "source": [
    "## Questão 1\n",
    "\n",
    "Qual fração da variância consegue ser explicada pelo primeiro componente principal de `fifa`? Responda como um único float (entre 0 e 1) arredondado para três casas decimais."
   ]
  },
  {
   "cell_type": "code",
   "execution_count": 8,
   "metadata": {
    "ExecuteTime": {
     "end_time": "2020-08-01T18:39:25.006226Z",
     "start_time": "2020-08-01T18:39:24.920174Z"
    }
   },
   "outputs": [
    {
     "data": {
      "text/plain": [
       "array([0.565, 0.181, 0.06 , 0.043, 0.026, 0.012, 0.01 , 0.009, 0.008,\n",
       "       0.007, 0.007, 0.006, 0.005, 0.005, 0.005, 0.005, 0.004, 0.004,\n",
       "       0.004, 0.004, 0.003, 0.003, 0.003, 0.003, 0.003, 0.002, 0.002,\n",
       "       0.002, 0.002, 0.001, 0.001, 0.001, 0.001, 0.001, 0.001, 0.001,\n",
       "       0.   ])"
      ]
     },
     "execution_count": 8,
     "metadata": {},
     "output_type": "execute_result"
    }
   ],
   "source": [
    "pca = PCA()\n",
    "pca.fit(fifa2)\n",
    "pca_explain = pca.explained_variance_ratio_.round(3)\n",
    "pca_explain"
   ]
  },
  {
   "cell_type": "code",
   "execution_count": 9,
   "metadata": {
    "ExecuteTime": {
     "end_time": "2020-08-01T18:39:25.020557Z",
     "start_time": "2020-08-01T18:39:25.012058Z"
    }
   },
   "outputs": [],
   "source": [
    "def q1():\n",
    "    pca = PCA().fit(fifa2)\n",
    "    pca_explain = pca.explained_variance_ratio_\n",
    "    return pca_explain[0].round(3)"
   ]
  },
  {
   "cell_type": "markdown",
   "metadata": {},
   "source": [
    "## Questão 2\n",
    "\n",
    "Quantos componentes principais precisamos para explicar 95% da variância total? Responda como un único escalar inteiro."
   ]
  },
  {
   "cell_type": "code",
   "execution_count": 10,
   "metadata": {
    "ExecuteTime": {
     "end_time": "2020-08-01T18:39:25.051033Z",
     "start_time": "2020-08-01T18:39:25.025576Z"
    }
   },
   "outputs": [
    {
     "name": "stdout",
     "output_type": "stream",
     "text": [
      "0.56 1\n",
      "0.75 2\n",
      "0.81 3\n",
      "0.85 4\n",
      "0.88 5\n",
      "0.89 6\n",
      "0.9 7\n",
      "0.91 8\n",
      "0.91 9\n",
      "0.92 10\n",
      "0.93 11\n",
      "0.93 12\n",
      "0.94 13\n",
      "0.94 14\n",
      "0.95 15\n"
     ]
    }
   ],
   "source": [
    "cont,vt = 0,0\n",
    "for var in pca_explain:\n",
    "    vt += var\n",
    "    cont +=1\n",
    "    print(vt.round(2),cont)\n",
    "    if vt.round(2) >=0.95:\n",
    "        break\n",
    "#print(cont)"
   ]
  },
  {
   "cell_type": "code",
   "execution_count": 11,
   "metadata": {
    "ExecuteTime": {
     "end_time": "2020-08-01T18:39:25.151581Z",
     "start_time": "2020-08-01T18:39:25.056324Z"
    }
   },
   "outputs": [
    {
     "data": {
      "text/plain": [
       "15"
      ]
     },
     "execution_count": 11,
     "metadata": {},
     "output_type": "execute_result"
    }
   ],
   "source": [
    "PCA(n_components=0.95).fit_transform(fifa2).shape[1]"
   ]
  },
  {
   "cell_type": "code",
   "execution_count": 12,
   "metadata": {
    "ExecuteTime": {
     "end_time": "2020-08-01T18:39:25.164149Z",
     "start_time": "2020-08-01T18:39:25.158342Z"
    }
   },
   "outputs": [],
   "source": [
    "def q2():\n",
    "    return PCA(n_components=0.95).fit_transform(fifa2).shape[1]"
   ]
  },
  {
   "cell_type": "markdown",
   "metadata": {},
   "source": [
    "## Questão 3\n",
    "\n",
    "Qual são as coordenadas (primeiro e segundo componentes principais) do ponto `x` abaixo? O vetor abaixo já está centralizado. Cuidado para __não__ centralizar o vetor novamente (por exemplo, invocando `PCA.transform()` nele). Responda como uma tupla de float arredondados para três casas decimais."
   ]
  },
  {
   "cell_type": "code",
   "execution_count": 13,
   "metadata": {
    "ExecuteTime": {
     "end_time": "2020-08-01T18:39:25.182251Z",
     "start_time": "2020-08-01T18:39:25.170708Z"
    }
   },
   "outputs": [],
   "source": [
    "x = [0.87747123,  -1.24990363,  -1.3191255, -36.7341814,\n",
    "     -35.55091139, -37.29814417, -28.68671182, -30.90902583,\n",
    "     -42.37100061, -32.17082438, -28.86315326, -22.71193348,\n",
    "     -38.36945867, -20.61407566, -22.72696734, -25.50360703,\n",
    "     2.16339005, -27.96657305, -33.46004736,  -5.08943224,\n",
    "     -30.21994603,   3.68803348, -36.10997302, -30.86899058,\n",
    "     -22.69827634, -37.95847789, -22.40090313, -30.54859849,\n",
    "     -26.64827358, -19.28162344, -34.69783578, -34.6614351,\n",
    "     48.38377664,  47.60840355,  45.76793876,  44.61110193,\n",
    "     49.28911284\n",
    "]"
   ]
  },
  {
   "cell_type": "code",
   "execution_count": 14,
   "metadata": {
    "ExecuteTime": {
     "end_time": "2020-08-01T18:39:25.318334Z",
     "start_time": "2020-08-01T18:39:25.186990Z"
    }
   },
   "outputs": [
    {
     "name": "stdout",
     "output_type": "stream",
     "text": [
      "(186.556, -6.592)\n",
      "Original_shape:  (18159, 37)\n",
      "Transformed_shape:  (18159, 2)\n"
     ]
    }
   ],
   "source": [
    "pca = PCA(n_components=2).fit(fifa2)\n",
    "coordenadas1 = pca.components_.T #coordenadas de cada uma das 37 variaveis\n",
    "coordenadas2 = np.dot(x,coordenadas1) #produto entre duas arrays\n",
    "print(tuple(coordenadas2.round(3)))\n",
    "pca_fifa2 = pca.transform(fifa2)\n",
    "print('Original_shape: ',fifa2.shape)\n",
    "print('Transformed_shape: ',pca_fifa2.shape)\n"
   ]
  },
  {
   "cell_type": "code",
   "execution_count": 15,
   "metadata": {
    "ExecuteTime": {
     "end_time": "2020-08-01T18:39:25.330159Z",
     "start_time": "2020-08-01T18:39:25.322889Z"
    }
   },
   "outputs": [],
   "source": [
    "def q3():\n",
    "    return tuple(coordenadas2.round(3))"
   ]
  },
  {
   "cell_type": "markdown",
   "metadata": {},
   "source": [
    "## Questão 4\n",
    "\n",
    "Realiza RFE com estimador de regressão linear para selecionar cinco variáveis, eliminando uma a uma. Quais são as variáveis selecionadas? Responda como uma lista de nomes de variáveis."
   ]
  },
  {
   "cell_type": "code",
   "execution_count": 16,
   "metadata": {
    "ExecuteTime": {
     "end_time": "2020-08-01T18:39:25.781884Z",
     "start_time": "2020-08-01T18:39:25.334065Z"
    }
   },
   "outputs": [
    {
     "data": {
      "text/html": [
       "<div>\n",
       "<style scoped>\n",
       "    .dataframe tbody tr th:only-of-type {\n",
       "        vertical-align: middle;\n",
       "    }\n",
       "\n",
       "    .dataframe tbody tr th {\n",
       "        vertical-align: top;\n",
       "    }\n",
       "\n",
       "    .dataframe thead th {\n",
       "        text-align: right;\n",
       "    }\n",
       "</style>\n",
       "<table border=\"1\" class=\"dataframe\">\n",
       "  <thead>\n",
       "    <tr style=\"text-align: right;\">\n",
       "      <th></th>\n",
       "      <th>Variaveis</th>\n",
       "      <th>Selected</th>\n",
       "      <th>Rank</th>\n",
       "    </tr>\n",
       "  </thead>\n",
       "  <tbody>\n",
       "    <tr>\n",
       "      <th>0</th>\n",
       "      <td>Acceleration</td>\n",
       "      <td>False</td>\n",
       "      <td>12</td>\n",
       "    </tr>\n",
       "    <tr>\n",
       "      <th>1</th>\n",
       "      <td>Age</td>\n",
       "      <td>True</td>\n",
       "      <td>1</td>\n",
       "    </tr>\n",
       "    <tr>\n",
       "      <th>2</th>\n",
       "      <td>Aggression</td>\n",
       "      <td>False</td>\n",
       "      <td>29</td>\n",
       "    </tr>\n",
       "    <tr>\n",
       "      <th>3</th>\n",
       "      <td>Agility</td>\n",
       "      <td>False</td>\n",
       "      <td>28</td>\n",
       "    </tr>\n",
       "    <tr>\n",
       "      <th>4</th>\n",
       "      <td>Balance</td>\n",
       "      <td>False</td>\n",
       "      <td>13</td>\n",
       "    </tr>\n",
       "    <tr>\n",
       "      <th>5</th>\n",
       "      <td>BallControl</td>\n",
       "      <td>True</td>\n",
       "      <td>1</td>\n",
       "    </tr>\n",
       "    <tr>\n",
       "      <th>6</th>\n",
       "      <td>Composure</td>\n",
       "      <td>False</td>\n",
       "      <td>3</td>\n",
       "    </tr>\n",
       "    <tr>\n",
       "      <th>7</th>\n",
       "      <td>Crossing</td>\n",
       "      <td>False</td>\n",
       "      <td>17</td>\n",
       "    </tr>\n",
       "    <tr>\n",
       "      <th>8</th>\n",
       "      <td>Curve</td>\n",
       "      <td>False</td>\n",
       "      <td>24</td>\n",
       "    </tr>\n",
       "    <tr>\n",
       "      <th>9</th>\n",
       "      <td>Dribbling</td>\n",
       "      <td>False</td>\n",
       "      <td>23</td>\n",
       "    </tr>\n",
       "    <tr>\n",
       "      <th>10</th>\n",
       "      <td>FKAccuracy</td>\n",
       "      <td>False</td>\n",
       "      <td>26</td>\n",
       "    </tr>\n",
       "    <tr>\n",
       "      <th>11</th>\n",
       "      <td>Finishing</td>\n",
       "      <td>False</td>\n",
       "      <td>19</td>\n",
       "    </tr>\n",
       "    <tr>\n",
       "      <th>12</th>\n",
       "      <td>GKDiving</td>\n",
       "      <td>False</td>\n",
       "      <td>4</td>\n",
       "    </tr>\n",
       "    <tr>\n",
       "      <th>13</th>\n",
       "      <td>GKHandling</td>\n",
       "      <td>False</td>\n",
       "      <td>8</td>\n",
       "    </tr>\n",
       "    <tr>\n",
       "      <th>14</th>\n",
       "      <td>GKKicking</td>\n",
       "      <td>False</td>\n",
       "      <td>10</td>\n",
       "    </tr>\n",
       "    <tr>\n",
       "      <th>15</th>\n",
       "      <td>GKPositioning</td>\n",
       "      <td>False</td>\n",
       "      <td>14</td>\n",
       "    </tr>\n",
       "    <tr>\n",
       "      <th>16</th>\n",
       "      <td>GKReflexes</td>\n",
       "      <td>True</td>\n",
       "      <td>1</td>\n",
       "    </tr>\n",
       "    <tr>\n",
       "      <th>17</th>\n",
       "      <td>HeadingAccuracy</td>\n",
       "      <td>False</td>\n",
       "      <td>7</td>\n",
       "    </tr>\n",
       "    <tr>\n",
       "      <th>18</th>\n",
       "      <td>Interceptions</td>\n",
       "      <td>False</td>\n",
       "      <td>31</td>\n",
       "    </tr>\n",
       "    <tr>\n",
       "      <th>19</th>\n",
       "      <td>Jumping</td>\n",
       "      <td>False</td>\n",
       "      <td>30</td>\n",
       "    </tr>\n",
       "    <tr>\n",
       "      <th>20</th>\n",
       "      <td>LongPassing</td>\n",
       "      <td>False</td>\n",
       "      <td>27</td>\n",
       "    </tr>\n",
       "    <tr>\n",
       "      <th>21</th>\n",
       "      <td>LongShots</td>\n",
       "      <td>False</td>\n",
       "      <td>25</td>\n",
       "    </tr>\n",
       "    <tr>\n",
       "      <th>22</th>\n",
       "      <td>Marking</td>\n",
       "      <td>False</td>\n",
       "      <td>20</td>\n",
       "    </tr>\n",
       "    <tr>\n",
       "      <th>23</th>\n",
       "      <td>Penalties</td>\n",
       "      <td>False</td>\n",
       "      <td>22</td>\n",
       "    </tr>\n",
       "    <tr>\n",
       "      <th>24</th>\n",
       "      <td>Positioning</td>\n",
       "      <td>False</td>\n",
       "      <td>11</td>\n",
       "    </tr>\n",
       "    <tr>\n",
       "      <th>25</th>\n",
       "      <td>Potential</td>\n",
       "      <td>True</td>\n",
       "      <td>1</td>\n",
       "    </tr>\n",
       "    <tr>\n",
       "      <th>26</th>\n",
       "      <td>Reactions</td>\n",
       "      <td>True</td>\n",
       "      <td>1</td>\n",
       "    </tr>\n",
       "    <tr>\n",
       "      <th>27</th>\n",
       "      <td>ShortPassing</td>\n",
       "      <td>False</td>\n",
       "      <td>5</td>\n",
       "    </tr>\n",
       "    <tr>\n",
       "      <th>28</th>\n",
       "      <td>ShotPower</td>\n",
       "      <td>False</td>\n",
       "      <td>21</td>\n",
       "    </tr>\n",
       "    <tr>\n",
       "      <th>29</th>\n",
       "      <td>SlidingTackle</td>\n",
       "      <td>False</td>\n",
       "      <td>16</td>\n",
       "    </tr>\n",
       "    <tr>\n",
       "      <th>30</th>\n",
       "      <td>SprintSpeed</td>\n",
       "      <td>False</td>\n",
       "      <td>6</td>\n",
       "    </tr>\n",
       "    <tr>\n",
       "      <th>31</th>\n",
       "      <td>Stamina</td>\n",
       "      <td>False</td>\n",
       "      <td>9</td>\n",
       "    </tr>\n",
       "    <tr>\n",
       "      <th>32</th>\n",
       "      <td>StandingTackle</td>\n",
       "      <td>False</td>\n",
       "      <td>15</td>\n",
       "    </tr>\n",
       "    <tr>\n",
       "      <th>33</th>\n",
       "      <td>Strength</td>\n",
       "      <td>False</td>\n",
       "      <td>2</td>\n",
       "    </tr>\n",
       "    <tr>\n",
       "      <th>34</th>\n",
       "      <td>Vision</td>\n",
       "      <td>False</td>\n",
       "      <td>18</td>\n",
       "    </tr>\n",
       "    <tr>\n",
       "      <th>35</th>\n",
       "      <td>Volleys</td>\n",
       "      <td>False</td>\n",
       "      <td>32</td>\n",
       "    </tr>\n",
       "  </tbody>\n",
       "</table>\n",
       "</div>"
      ],
      "text/plain": [
       "          Variaveis  Selected  Rank\n",
       "0      Acceleration     False    12\n",
       "1               Age      True     1\n",
       "2        Aggression     False    29\n",
       "3           Agility     False    28\n",
       "4           Balance     False    13\n",
       "5       BallControl      True     1\n",
       "6         Composure     False     3\n",
       "7          Crossing     False    17\n",
       "8             Curve     False    24\n",
       "9         Dribbling     False    23\n",
       "10       FKAccuracy     False    26\n",
       "11        Finishing     False    19\n",
       "12         GKDiving     False     4\n",
       "13       GKHandling     False     8\n",
       "14        GKKicking     False    10\n",
       "15    GKPositioning     False    14\n",
       "16       GKReflexes      True     1\n",
       "17  HeadingAccuracy     False     7\n",
       "18    Interceptions     False    31\n",
       "19          Jumping     False    30\n",
       "20      LongPassing     False    27\n",
       "21        LongShots     False    25\n",
       "22          Marking     False    20\n",
       "23        Penalties     False    22\n",
       "24      Positioning     False    11\n",
       "25        Potential      True     1\n",
       "26        Reactions      True     1\n",
       "27     ShortPassing     False     5\n",
       "28        ShotPower     False    21\n",
       "29    SlidingTackle     False    16\n",
       "30      SprintSpeed     False     6\n",
       "31          Stamina     False     9\n",
       "32   StandingTackle     False    15\n",
       "33         Strength     False     2\n",
       "34           Vision     False    18\n",
       "35          Volleys     False    32"
      ]
     },
     "execution_count": 16,
     "metadata": {},
     "output_type": "execute_result"
    }
   ],
   "source": [
    "#Separating out the features\n",
    "X = fifa2[fifa2.columns.difference(['Overall'])]\n",
    "\n",
    "#Separating out the target\n",
    "y = fifa2['Overall']\n",
    "\n",
    "#Define RFE with Linear Regressor as estimator \n",
    "rfe = RFE(LinearRegression(), n_features_to_select = 5)\n",
    "\n",
    "#Fit RFE\n",
    "rfe = rfe.fit(X, y)\n",
    "\n",
    "#Create a dataframe for summarize the results\n",
    "df = pd.DataFrame({'Variaveis': X.columns, 'Selected': rfe.support_, 'Rank': rfe.ranking_})\n",
    "df"
   ]
  },
  {
   "cell_type": "code",
   "execution_count": 17,
   "metadata": {
    "ExecuteTime": {
     "end_time": "2020-08-01T18:39:25.792666Z",
     "start_time": "2020-08-01T18:39:25.785136Z"
    }
   },
   "outputs": [
    {
     "data": {
      "text/plain": [
       "['Age', 'BallControl', 'GKReflexes', 'Potential', 'Reactions']"
      ]
     },
     "execution_count": 17,
     "metadata": {},
     "output_type": "execute_result"
    }
   ],
   "source": [
    "list(df.Variaveis[df['Selected']==True])"
   ]
  },
  {
   "cell_type": "code",
   "execution_count": 18,
   "metadata": {
    "ExecuteTime": {
     "end_time": "2020-08-01T18:39:25.803669Z",
     "start_time": "2020-08-01T18:39:25.796322Z"
    }
   },
   "outputs": [],
   "source": [
    "def q4():\n",
    "    return list(df.Variaveis[df['Selected']==True])"
   ]
  }
 ],
 "metadata": {
  "hide_input": false,
  "kernelspec": {
   "display_name": "Python 3",
   "language": "python",
   "name": "python3"
  },
  "language_info": {
   "codemirror_mode": {
    "name": "ipython",
    "version": 3
   },
   "file_extension": ".py",
   "mimetype": "text/x-python",
   "name": "python",
   "nbconvert_exporter": "python",
   "pygments_lexer": "ipython3",
   "version": "3.7.4"
  },
  "toc": {
   "base_numbering": 1,
   "nav_menu": {},
   "number_sections": true,
   "sideBar": true,
   "skip_h1_title": false,
   "title_cell": "Table of Contents",
   "title_sidebar": "Contents",
   "toc_cell": false,
   "toc_position": {},
   "toc_section_display": true,
   "toc_window_display": false
  }
 },
 "nbformat": 4,
 "nbformat_minor": 2
}
