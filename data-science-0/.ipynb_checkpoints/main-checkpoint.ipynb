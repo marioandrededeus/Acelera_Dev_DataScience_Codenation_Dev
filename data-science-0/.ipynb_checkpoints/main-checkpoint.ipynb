{
 "cells": [
  {
   "cell_type": "markdown",
   "metadata": {},
   "source": [
    "# Desafio 1\n",
    "\n",
    "Para esse desafio, vamos trabalhar com o data set [Black Friday](https://www.kaggle.com/mehdidag/black-friday), que reúne dados sobre transações de compras em uma loja de varejo.\n",
    "\n",
    "Vamos utilizá-lo para praticar a exploração de data sets utilizando pandas. Você pode fazer toda análise neste mesmo notebook, mas as resposta devem estar nos locais indicados.\n",
    "\n",
    "> Obs.: Por favor, não modifique o nome das funções de resposta."
   ]
  },
  {
   "cell_type": "markdown",
   "metadata": {},
   "source": [
    "## _Set up_ da análise"
   ]
  },
  {
   "cell_type": "code",
   "execution_count": 46,
   "metadata": {
    "ExecuteTime": {
     "end_time": "2020-06-24T03:50:35.144851Z",
     "start_time": "2020-06-24T03:50:35.140991Z"
    }
   },
   "outputs": [],
   "source": [
    "import pandas as pd\n",
    "import numpy as np\n",
    "from sklearn.preprocessing import MinMaxScaler"
   ]
  },
  {
   "cell_type": "code",
   "execution_count": 47,
   "metadata": {
    "ExecuteTime": {
     "end_time": "2020-06-24T03:50:35.810310Z",
     "start_time": "2020-06-24T03:50:35.147463Z"
    }
   },
   "outputs": [],
   "source": [
    "black_friday = pd.read_csv(\"black_friday.csv\")"
   ]
  },
  {
   "cell_type": "markdown",
   "metadata": {},
   "source": [
    "## Inicie sua análise a partir daqui"
   ]
  },
  {
   "cell_type": "code",
   "execution_count": null,
   "metadata": {},
   "outputs": [],
   "source": []
  },
  {
   "cell_type": "markdown",
   "metadata": {},
   "source": [
    "## VISUALIZAÇÃO DO DATASET"
   ]
  },
  {
   "cell_type": "code",
   "execution_count": 48,
   "metadata": {
    "ExecuteTime": {
     "end_time": "2020-06-24T03:50:36.471034Z",
     "start_time": "2020-06-24T03:50:35.813289Z"
    }
   },
   "outputs": [
    {
     "data": {
      "text/html": [
       "<div>\n",
       "<style scoped>\n",
       "    .dataframe tbody tr th:only-of-type {\n",
       "        vertical-align: middle;\n",
       "    }\n",
       "\n",
       "    .dataframe tbody tr th {\n",
       "        vertical-align: top;\n",
       "    }\n",
       "\n",
       "    .dataframe thead th {\n",
       "        text-align: right;\n",
       "    }\n",
       "</style>\n",
       "<table border=\"1\" class=\"dataframe\">\n",
       "  <thead>\n",
       "    <tr style=\"text-align: right;\">\n",
       "      <th></th>\n",
       "      <th>User_ID</th>\n",
       "      <th>Product_ID</th>\n",
       "      <th>Gender</th>\n",
       "      <th>Age</th>\n",
       "      <th>Occupation</th>\n",
       "      <th>City_Category</th>\n",
       "      <th>Stay_In_Current_City_Years</th>\n",
       "      <th>Marital_Status</th>\n",
       "      <th>Product_Category_1</th>\n",
       "      <th>Product_Category_2</th>\n",
       "      <th>Product_Category_3</th>\n",
       "      <th>Purchase</th>\n",
       "    </tr>\n",
       "  </thead>\n",
       "  <tbody>\n",
       "    <tr>\n",
       "      <th>0</th>\n",
       "      <td>1000001</td>\n",
       "      <td>P00069042</td>\n",
       "      <td>F</td>\n",
       "      <td>0-17</td>\n",
       "      <td>10</td>\n",
       "      <td>A</td>\n",
       "      <td>2</td>\n",
       "      <td>0</td>\n",
       "      <td>3</td>\n",
       "      <td>NaN</td>\n",
       "      <td>NaN</td>\n",
       "      <td>8370</td>\n",
       "    </tr>\n",
       "    <tr>\n",
       "      <th>1</th>\n",
       "      <td>1000001</td>\n",
       "      <td>P00248942</td>\n",
       "      <td>F</td>\n",
       "      <td>0-17</td>\n",
       "      <td>10</td>\n",
       "      <td>A</td>\n",
       "      <td>2</td>\n",
       "      <td>0</td>\n",
       "      <td>1</td>\n",
       "      <td>6.0</td>\n",
       "      <td>14.0</td>\n",
       "      <td>15200</td>\n",
       "    </tr>\n",
       "    <tr>\n",
       "      <th>2</th>\n",
       "      <td>1000001</td>\n",
       "      <td>P00087842</td>\n",
       "      <td>F</td>\n",
       "      <td>0-17</td>\n",
       "      <td>10</td>\n",
       "      <td>A</td>\n",
       "      <td>2</td>\n",
       "      <td>0</td>\n",
       "      <td>12</td>\n",
       "      <td>NaN</td>\n",
       "      <td>NaN</td>\n",
       "      <td>1422</td>\n",
       "    </tr>\n",
       "    <tr>\n",
       "      <th>3</th>\n",
       "      <td>1000001</td>\n",
       "      <td>P00085442</td>\n",
       "      <td>F</td>\n",
       "      <td>0-17</td>\n",
       "      <td>10</td>\n",
       "      <td>A</td>\n",
       "      <td>2</td>\n",
       "      <td>0</td>\n",
       "      <td>12</td>\n",
       "      <td>14.0</td>\n",
       "      <td>NaN</td>\n",
       "      <td>1057</td>\n",
       "    </tr>\n",
       "    <tr>\n",
       "      <th>4</th>\n",
       "      <td>1000002</td>\n",
       "      <td>P00285442</td>\n",
       "      <td>M</td>\n",
       "      <td>55+</td>\n",
       "      <td>16</td>\n",
       "      <td>C</td>\n",
       "      <td>4+</td>\n",
       "      <td>0</td>\n",
       "      <td>8</td>\n",
       "      <td>NaN</td>\n",
       "      <td>NaN</td>\n",
       "      <td>7969</td>\n",
       "    </tr>\n",
       "  </tbody>\n",
       "</table>\n",
       "</div>"
      ],
      "text/plain": [
       "   User_ID Product_ID Gender   Age  Occupation City_Category  \\\n",
       "0  1000001  P00069042      F  0-17          10             A   \n",
       "1  1000001  P00248942      F  0-17          10             A   \n",
       "2  1000001  P00087842      F  0-17          10             A   \n",
       "3  1000001  P00085442      F  0-17          10             A   \n",
       "4  1000002  P00285442      M   55+          16             C   \n",
       "\n",
       "  Stay_In_Current_City_Years  Marital_Status  Product_Category_1  \\\n",
       "0                          2               0                   3   \n",
       "1                          2               0                   1   \n",
       "2                          2               0                  12   \n",
       "3                          2               0                  12   \n",
       "4                         4+               0                   8   \n",
       "\n",
       "   Product_Category_2  Product_Category_3  Purchase  \n",
       "0                 NaN                 NaN      8370  \n",
       "1                 6.0                14.0     15200  \n",
       "2                 NaN                 NaN      1422  \n",
       "3                14.0                 NaN      1057  \n",
       "4                 NaN                 NaN      7969  "
      ]
     },
     "execution_count": 48,
     "metadata": {},
     "output_type": "execute_result"
    }
   ],
   "source": [
    "df=pd.read_csv('black_friday.csv')\n",
    "df.head()"
   ]
  },
  {
   "cell_type": "markdown",
   "metadata": {},
   "source": [
    "## QUESTÃO 1: NÚMERO DE OBSERVAÇÕES, NÚMERO DE COLUNAS"
   ]
  },
  {
   "cell_type": "code",
   "execution_count": 49,
   "metadata": {
    "ExecuteTime": {
     "end_time": "2020-06-24T03:50:36.479450Z",
     "start_time": "2020-06-24T03:50:36.473933Z"
    }
   },
   "outputs": [
    {
     "data": {
      "text/plain": [
       "(537577, 12)"
      ]
     },
     "execution_count": 49,
     "metadata": {},
     "output_type": "execute_result"
    }
   ],
   "source": [
    "df.shape"
   ]
  },
  {
   "cell_type": "code",
   "execution_count": 50,
   "metadata": {
    "ExecuteTime": {
     "end_time": "2020-06-24T03:50:36.645141Z",
     "start_time": "2020-06-24T03:50:36.483047Z"
    }
   },
   "outputs": [
    {
     "name": "stdout",
     "output_type": "stream",
     "text": [
      "<class 'pandas.core.frame.DataFrame'>\n",
      "RangeIndex: 537577 entries, 0 to 537576\n",
      "Data columns (total 12 columns):\n",
      " #   Column                      Non-Null Count   Dtype  \n",
      "---  ------                      --------------   -----  \n",
      " 0   User_ID                     537577 non-null  int64  \n",
      " 1   Product_ID                  537577 non-null  object \n",
      " 2   Gender                      537577 non-null  object \n",
      " 3   Age                         537577 non-null  object \n",
      " 4   Occupation                  537577 non-null  int64  \n",
      " 5   City_Category               537577 non-null  object \n",
      " 6   Stay_In_Current_City_Years  537577 non-null  object \n",
      " 7   Marital_Status              537577 non-null  int64  \n",
      " 8   Product_Category_1          537577 non-null  int64  \n",
      " 9   Product_Category_2          370591 non-null  float64\n",
      " 10  Product_Category_3          164278 non-null  float64\n",
      " 11  Purchase                    537577 non-null  int64  \n",
      "dtypes: float64(2), int64(5), object(5)\n",
      "memory usage: 49.2+ MB\n"
     ]
    }
   ],
   "source": [
    "df.info()"
   ]
  },
  {
   "cell_type": "markdown",
   "metadata": {},
   "source": [
    "## VERIFICAÇÃO  DOS TIPOS DE ENTRADAS DE CADA FEATURE"
   ]
  },
  {
   "cell_type": "code",
   "execution_count": 51,
   "metadata": {
    "ExecuteTime": {
     "end_time": "2020-06-24T03:50:37.050280Z",
     "start_time": "2020-06-24T03:50:36.647693Z"
    }
   },
   "outputs": [
    {
     "name": "stdout",
     "output_type": "stream",
     "text": [
      "User_ID\n",
      " 1001680    1025\n",
      "1004277     978\n",
      "1001941     898\n",
      "1001181     861\n",
      "1000889     822\n",
      "           ... \n",
      "1005810       6\n",
      "1005391       6\n",
      "1005608       6\n",
      "1002111       6\n",
      "1000708       5\n",
      "Name: User_ID, Length: 5891, dtype: int64\n",
      "\n",
      "Product_ID\n",
      " P00265242    1858\n",
      "P00110742    1591\n",
      "P00025442    1586\n",
      "P00112142    1539\n",
      "P00057642    1430\n",
      "             ... \n",
      "P00143442       1\n",
      "P00056542       1\n",
      "P00133042       1\n",
      "P00299042       1\n",
      "P00338242       1\n",
      "Name: Product_ID, Length: 3623, dtype: int64\n",
      "\n",
      "Gender\n",
      " M    405380\n",
      "F    132197\n",
      "Name: Gender, dtype: int64\n",
      "\n",
      "Age\n",
      " 26-35    214690\n",
      "36-45    107499\n",
      "18-25     97634\n",
      "46-50     44526\n",
      "51-55     37618\n",
      "55+       20903\n",
      "0-17      14707\n",
      "Name: Age, dtype: int64\n",
      "\n",
      "Occupation\n",
      " 4     70862\n",
      "0     68120\n",
      "7     57806\n",
      "1     45971\n",
      "17    39090\n",
      "20    32910\n",
      "12    30423\n",
      "14    26712\n",
      "2     25845\n",
      "16    24790\n",
      "6     19822\n",
      "3     17366\n",
      "10    12623\n",
      "5     11985\n",
      "15    11812\n",
      "11    11338\n",
      "19     8352\n",
      "13     7548\n",
      "18     6525\n",
      "9      6153\n",
      "8      1524\n",
      "Name: Occupation, dtype: int64\n",
      "\n",
      "City_Category\n",
      " B    226493\n",
      "C    166446\n",
      "A    144638\n",
      "Name: City_Category, dtype: int64\n",
      "\n",
      "Stay_In_Current_City_Years\n",
      " 1     189192\n",
      "2      99459\n",
      "3      93312\n",
      "4+     82889\n",
      "0      72725\n",
      "Name: Stay_In_Current_City_Years, dtype: int64\n",
      "\n",
      "Marital_Status\n",
      " 0    317817\n",
      "1    219760\n",
      "Name: Marital_Status, dtype: int64\n",
      "\n",
      "Product_Category_1\n",
      " 5     148592\n",
      "1     138353\n",
      "8     112132\n",
      "11     23960\n",
      "2      23499\n",
      "6      20164\n",
      "3      19849\n",
      "4      11567\n",
      "16      9697\n",
      "15      6203\n",
      "13      5440\n",
      "10      5032\n",
      "12      3875\n",
      "7       3668\n",
      "18      3075\n",
      "14      1500\n",
      "17       567\n",
      "9        404\n",
      "Name: Product_Category_1, dtype: int64\n",
      "\n",
      "Product_Category_2\n",
      " 8.0     63058\n",
      "14.0    54158\n",
      "2.0     48481\n",
      "16.0    42602\n",
      "15.0    37317\n",
      "5.0     25874\n",
      "4.0     25225\n",
      "6.0     16251\n",
      "11.0    13945\n",
      "17.0    13130\n",
      "13.0    10369\n",
      "9.0      5591\n",
      "12.0     5419\n",
      "10.0     2991\n",
      "3.0      2835\n",
      "18.0     2730\n",
      "7.0       615\n",
      "Name: Product_Category_2, dtype: int64\n",
      "\n",
      "Product_Category_3\n",
      " 16.0    32148\n",
      "15.0    27611\n",
      "14.0    18121\n",
      "17.0    16449\n",
      "5.0     16380\n",
      "8.0     12384\n",
      "9.0     11414\n",
      "12.0     9094\n",
      "13.0     5385\n",
      "6.0      4818\n",
      "18.0     4563\n",
      "4.0      1840\n",
      "11.0     1773\n",
      "10.0     1698\n",
      "3.0       600\n",
      "Name: Product_Category_3, dtype: int64\n",
      "\n",
      "Purchase\n",
      " 6855     186\n",
      "7011     185\n",
      "7193     182\n",
      "6891     182\n",
      "6879     181\n",
      "        ... \n",
      "18719      1\n",
      "898        1\n",
      "14457      1\n",
      "13947      1\n",
      "3326       1\n",
      "Name: Purchase, Length: 17959, dtype: int64\n",
      "\n"
     ]
    }
   ],
   "source": [
    "col = df.columns\n",
    "\n",
    "for i in col:\n",
    "    print(f'{i}\\n {df[i].value_counts()}\\n')"
   ]
  },
  {
   "cell_type": "markdown",
   "metadata": {},
   "source": [
    "## ADEQUAÇÃO DO \"TIPO\" DE CADA FEATURE (DTYPE)"
   ]
  },
  {
   "cell_type": "code",
   "execution_count": 52,
   "metadata": {
    "ExecuteTime": {
     "end_time": "2020-06-24T03:50:37.067084Z",
     "start_time": "2020-06-24T03:50:37.056870Z"
    }
   },
   "outputs": [
    {
     "data": {
      "text/plain": [
       "User_ID                         int64\n",
       "Product_ID                     object\n",
       "Gender                         object\n",
       "Age                            object\n",
       "Occupation                      int64\n",
       "City_Category                  object\n",
       "Stay_In_Current_City_Years     object\n",
       "Marital_Status                  int64\n",
       "Product_Category_1              int64\n",
       "Product_Category_2            float64\n",
       "Product_Category_3            float64\n",
       "Purchase                        int64\n",
       "dtype: object"
      ]
     },
     "execution_count": 52,
     "metadata": {},
     "output_type": "execute_result"
    }
   ],
   "source": [
    "df.dtypes"
   ]
  },
  {
   "cell_type": "code",
   "execution_count": 53,
   "metadata": {
    "ExecuteTime": {
     "end_time": "2020-06-24T03:50:37.314066Z",
     "start_time": "2020-06-24T03:50:37.070754Z"
    }
   },
   "outputs": [
    {
     "data": {
      "text/plain": [
       "User_ID                         int64\n",
       "Product_ID                     object\n",
       "Gender                         object\n",
       "Age                            object\n",
       "Occupation                     object\n",
       "City_Category                  object\n",
       "Stay_In_Current_City_Years     object\n",
       "Marital_Status                 object\n",
       "Product_Category_1             object\n",
       "Product_Category_2             object\n",
       "Product_Category_3             object\n",
       "Purchase                      float64\n",
       "dtype: object"
      ]
     },
     "execution_count": 53,
     "metadata": {},
     "output_type": "execute_result"
    }
   ],
   "source": [
    "df2 = df.copy()\n",
    "df2['Occupation'] = df2['Occupation'].astype('object')\n",
    "df2['Stay_In_Current_City_Years'] = df2['Stay_In_Current_City_Years'].astype('object')\n",
    "df2['Marital_Status'] = df2['Marital_Status'].astype('object')\n",
    "df2['Product_Category_1'] = df2['Product_Category_1'].astype('object')\n",
    "df2['Product_Category_2'] = df2['Product_Category_2'].astype('object')\n",
    "df2['Product_Category_3'] = df2['Product_Category_3'].astype('object')\n",
    "df2['Purchase'] = df2['Purchase'].astype('float64')\n",
    "df2.dtypes"
   ]
  },
  {
   "cell_type": "markdown",
   "metadata": {},
   "source": [
    "## QUESTÃO 2: NÚMERO DE MULHERES COM IDADE ENTRE 26 E 35"
   ]
  },
  {
   "cell_type": "code",
   "execution_count": 54,
   "metadata": {
    "ExecuteTime": {
     "end_time": "2020-06-24T03:50:37.421985Z",
     "start_time": "2020-06-24T03:50:37.316489Z"
    }
   },
   "outputs": [
    {
     "data": {
      "text/plain": [
       "49348"
      ]
     },
     "execution_count": 54,
     "metadata": {},
     "output_type": "execute_result"
    }
   ],
   "source": [
    "df_female = df['Gender']=='F'\n",
    "df_26_35 = df['Age']=='26-35'\n",
    "df_q2 = df[df_female & df_26_35]\n",
    "df_q2.shape[0]"
   ]
  },
  {
   "cell_type": "markdown",
   "metadata": {},
   "source": [
    "## QUESTÃO 3: NÚMERO DE USUÁRIOS ÚNICOS"
   ]
  },
  {
   "cell_type": "code",
   "execution_count": 55,
   "metadata": {
    "ExecuteTime": {
     "end_time": "2020-06-24T03:50:37.439704Z",
     "start_time": "2020-06-24T03:50:37.424396Z"
    }
   },
   "outputs": [
    {
     "data": {
      "text/plain": [
       "5891"
      ]
     },
     "execution_count": 55,
     "metadata": {},
     "output_type": "execute_result"
    }
   ],
   "source": [
    "df['User_ID'].nunique()"
   ]
  },
  {
   "cell_type": "markdown",
   "metadata": {},
   "source": [
    "## QUESTÃO 4: NÚMERO DE TIPOS DE DADOS DIFERENTES NO DATASET"
   ]
  },
  {
   "cell_type": "code",
   "execution_count": 56,
   "metadata": {
    "ExecuteTime": {
     "end_time": "2020-06-24T03:50:37.451862Z",
     "start_time": "2020-06-24T03:50:37.442790Z"
    }
   },
   "outputs": [
    {
     "data": {
      "text/plain": [
       "3"
      ]
     },
     "execution_count": 56,
     "metadata": {},
     "output_type": "execute_result"
    }
   ],
   "source": [
    "df.dtypes.nunique()"
   ]
  },
  {
   "cell_type": "markdown",
   "metadata": {},
   "source": [
    "## QUESTÃO 5: PORCENTAGEM DE OBSERVAÇÕES COM PELO MENOS UM VALOR NULO"
   ]
  },
  {
   "cell_type": "code",
   "execution_count": 57,
   "metadata": {
    "ExecuteTime": {
     "end_time": "2020-06-24T03:50:37.494948Z",
     "start_time": "2020-06-24T03:50:37.455476Z"
    }
   },
   "outputs": [
    {
     "data": {
      "text/plain": [
       "0.6944102891306734"
      ]
     },
     "execution_count": 57,
     "metadata": {},
     "output_type": "execute_result"
    }
   ],
   "source": [
    "df_prod2_notnull = df['Product_Category_2'].notna()\n",
    "df_prod3_notnull = df['Product_Category_3'].notna()\n",
    "df_prod2_3_notnull = df[df_prod2_notnull & df_prod3_notnull]\n",
    "\n",
    "#Qtd observações com pelo menos 1 valor nulo:\n",
    "obs_nulos = len (df) - len(df_prod2_3_notnull)\n",
    "\n",
    "#Porcentagem de observações com pelo menos 1 valor nulo:\n",
    "percent_nulos = obs_nulos / len(df)\n",
    "percent_nulos\n",
    "\n"
   ]
  },
  {
   "cell_type": "markdown",
   "metadata": {},
   "source": [
    "## QUESTÃO 6: NÚMERO DE NULL NA VARIÁVEL COM MAIOR NÚMERO DE NULL"
   ]
  },
  {
   "cell_type": "code",
   "execution_count": 58,
   "metadata": {
    "ExecuteTime": {
     "end_time": "2020-06-24T03:50:37.512229Z",
     "start_time": "2020-06-24T03:50:37.499053Z"
    }
   },
   "outputs": [
    {
     "data": {
      "text/plain": [
       "373299"
      ]
     },
     "execution_count": 58,
     "metadata": {},
     "output_type": "execute_result"
    }
   ],
   "source": [
    "df['Product_Category_3'].isnull().sum()"
   ]
  },
  {
   "cell_type": "markdown",
   "metadata": {},
   "source": [
    "# QUESTÃO 7: VALOR MAIS FREQUENTE (NOTNULL) NA VARIÁVEL Product_Category_3 "
   ]
  },
  {
   "cell_type": "code",
   "execution_count": 59,
   "metadata": {
    "ExecuteTime": {
     "end_time": "2020-06-24T03:50:37.540313Z",
     "start_time": "2020-06-24T03:50:37.514755Z"
    }
   },
   "outputs": [
    {
     "data": {
      "text/plain": [
       "16.0    32148\n",
       "15.0    27611\n",
       "14.0    18121\n",
       "17.0    16449\n",
       "5.0     16380\n",
       "8.0     12384\n",
       "9.0     11414\n",
       "12.0     9094\n",
       "13.0     5385\n",
       "6.0      4818\n",
       "18.0     4563\n",
       "4.0      1840\n",
       "11.0     1773\n",
       "10.0     1698\n",
       "3.0       600\n",
       "Name: Product_Category_3, dtype: int64"
      ]
     },
     "execution_count": 59,
     "metadata": {},
     "output_type": "execute_result"
    }
   ],
   "source": [
    "df['Product_Category_3'].value_counts()"
   ]
  },
  {
   "cell_type": "markdown",
   "metadata": {},
   "source": [
    "## QUESTÃO 8: MÉDIA DA VARIÁVEL PURCHASE APÓS UMA NORMALIZAÇÃO"
   ]
  },
  {
   "cell_type": "code",
   "execution_count": 60,
   "metadata": {
    "ExecuteTime": {
     "end_time": "2020-06-24T03:50:38.175237Z",
     "start_time": "2020-06-24T03:50:37.543638Z"
    }
   },
   "outputs": [
    {
     "data": {
      "text/html": [
       "<div>\n",
       "<style scoped>\n",
       "    .dataframe tbody tr th:only-of-type {\n",
       "        vertical-align: middle;\n",
       "    }\n",
       "\n",
       "    .dataframe tbody tr th {\n",
       "        vertical-align: top;\n",
       "    }\n",
       "\n",
       "    .dataframe thead th {\n",
       "        text-align: right;\n",
       "    }\n",
       "</style>\n",
       "<table border=\"1\" class=\"dataframe\">\n",
       "  <thead>\n",
       "    <tr style=\"text-align: right;\">\n",
       "      <th></th>\n",
       "      <th>0</th>\n",
       "    </tr>\n",
       "  </thead>\n",
       "  <tbody>\n",
       "    <tr>\n",
       "      <th>count</th>\n",
       "      <td>537577.000000</td>\n",
       "    </tr>\n",
       "    <tr>\n",
       "      <th>mean</th>\n",
       "      <td>0.384794</td>\n",
       "    </tr>\n",
       "    <tr>\n",
       "      <th>std</th>\n",
       "      <td>0.209498</td>\n",
       "    </tr>\n",
       "    <tr>\n",
       "      <th>min</th>\n",
       "      <td>0.000000</td>\n",
       "    </tr>\n",
       "    <tr>\n",
       "      <th>25%</th>\n",
       "      <td>0.238938</td>\n",
       "    </tr>\n",
       "    <tr>\n",
       "      <th>50%</th>\n",
       "      <td>0.331300</td>\n",
       "    </tr>\n",
       "    <tr>\n",
       "      <th>75%</th>\n",
       "      <td>0.500000</td>\n",
       "    </tr>\n",
       "    <tr>\n",
       "      <th>max</th>\n",
       "      <td>1.000000</td>\n",
       "    </tr>\n",
       "  </tbody>\n",
       "</table>\n",
       "</div>"
      ],
      "text/plain": [
       "                   0\n",
       "count  537577.000000\n",
       "mean        0.384794\n",
       "std         0.209498\n",
       "min         0.000000\n",
       "25%         0.238938\n",
       "50%         0.331300\n",
       "75%         0.500000\n",
       "max         1.000000"
      ]
     },
     "execution_count": 60,
     "metadata": {},
     "output_type": "execute_result"
    }
   ],
   "source": [
    "purchase = np.array(df.Purchase)\n",
    "xmin=df['Purchase'].min()\n",
    "xmax=df['Purchase'].max()\n",
    "\n",
    "x_normalizado=[]\n",
    "\n",
    "for x in purchase:\n",
    "    xn = (x-xmin)/(xmax-xmin)\n",
    "    x_normalizado.append(xn)\n",
    "purchase_norm = pd.DataFrame(x_normalizado)\n",
    "purchase_norm.describe()"
   ]
  },
  {
   "cell_type": "markdown",
   "metadata": {},
   "source": [
    "## QUESTÃO 9: Quantas ocorrências entre -1 e 1 inclusive existem da variáel `Purchase` após sua padronização? Responda como um único escalar."
   ]
  },
  {
   "cell_type": "code",
   "execution_count": 61,
   "metadata": {
    "ExecuteTime": {
     "end_time": "2020-06-24T03:50:41.310477Z",
     "start_time": "2020-06-24T03:50:38.178100Z"
    }
   },
   "outputs": [
    {
     "data": {
      "text/html": [
       "<div>\n",
       "<style scoped>\n",
       "    .dataframe tbody tr th:only-of-type {\n",
       "        vertical-align: middle;\n",
       "    }\n",
       "\n",
       "    .dataframe tbody tr th {\n",
       "        vertical-align: top;\n",
       "    }\n",
       "\n",
       "    .dataframe thead th {\n",
       "        text-align: right;\n",
       "    }\n",
       "</style>\n",
       "<table border=\"1\" class=\"dataframe\">\n",
       "  <thead>\n",
       "    <tr style=\"text-align: right;\">\n",
       "      <th></th>\n",
       "      <th>User_ID</th>\n",
       "      <th>Product_ID</th>\n",
       "      <th>Gender</th>\n",
       "      <th>Age</th>\n",
       "      <th>Occupation</th>\n",
       "      <th>City_Category</th>\n",
       "      <th>Stay_In_Current_City_Years</th>\n",
       "      <th>Marital_Status</th>\n",
       "      <th>Product_Category_1</th>\n",
       "      <th>Product_Category_2</th>\n",
       "      <th>Product_Category_3</th>\n",
       "      <th>Purchase</th>\n",
       "      <th>purchase_std</th>\n",
       "    </tr>\n",
       "  </thead>\n",
       "  <tbody>\n",
       "    <tr>\n",
       "      <th>0</th>\n",
       "      <td>1000001</td>\n",
       "      <td>P00069042</td>\n",
       "      <td>F</td>\n",
       "      <td>0-17</td>\n",
       "      <td>10</td>\n",
       "      <td>A</td>\n",
       "      <td>2</td>\n",
       "      <td>0</td>\n",
       "      <td>3</td>\n",
       "      <td>NaN</td>\n",
       "      <td>NaN</td>\n",
       "      <td>8370</td>\n",
       "      <td>-0.193506</td>\n",
       "    </tr>\n",
       "    <tr>\n",
       "      <th>1</th>\n",
       "      <td>1000001</td>\n",
       "      <td>P00248942</td>\n",
       "      <td>F</td>\n",
       "      <td>0-17</td>\n",
       "      <td>10</td>\n",
       "      <td>A</td>\n",
       "      <td>2</td>\n",
       "      <td>0</td>\n",
       "      <td>1</td>\n",
       "      <td>6.0</td>\n",
       "      <td>14.0</td>\n",
       "      <td>15200</td>\n",
       "      <td>1.177698</td>\n",
       "    </tr>\n",
       "    <tr>\n",
       "      <th>2</th>\n",
       "      <td>1000001</td>\n",
       "      <td>P00087842</td>\n",
       "      <td>F</td>\n",
       "      <td>0-17</td>\n",
       "      <td>10</td>\n",
       "      <td>A</td>\n",
       "      <td>2</td>\n",
       "      <td>0</td>\n",
       "      <td>12</td>\n",
       "      <td>NaN</td>\n",
       "      <td>NaN</td>\n",
       "      <td>1422</td>\n",
       "      <td>-1.588401</td>\n",
       "    </tr>\n",
       "    <tr>\n",
       "      <th>3</th>\n",
       "      <td>1000001</td>\n",
       "      <td>P00085442</td>\n",
       "      <td>F</td>\n",
       "      <td>0-17</td>\n",
       "      <td>10</td>\n",
       "      <td>A</td>\n",
       "      <td>2</td>\n",
       "      <td>0</td>\n",
       "      <td>12</td>\n",
       "      <td>14.0</td>\n",
       "      <td>NaN</td>\n",
       "      <td>1057</td>\n",
       "      <td>-1.661679</td>\n",
       "    </tr>\n",
       "    <tr>\n",
       "      <th>4</th>\n",
       "      <td>1000002</td>\n",
       "      <td>P00285442</td>\n",
       "      <td>M</td>\n",
       "      <td>55+</td>\n",
       "      <td>16</td>\n",
       "      <td>C</td>\n",
       "      <td>4+</td>\n",
       "      <td>0</td>\n",
       "      <td>8</td>\n",
       "      <td>NaN</td>\n",
       "      <td>NaN</td>\n",
       "      <td>7969</td>\n",
       "      <td>-0.274012</td>\n",
       "    </tr>\n",
       "  </tbody>\n",
       "</table>\n",
       "</div>"
      ],
      "text/plain": [
       "   User_ID Product_ID Gender   Age  Occupation City_Category  \\\n",
       "0  1000001  P00069042      F  0-17          10             A   \n",
       "1  1000001  P00248942      F  0-17          10             A   \n",
       "2  1000001  P00087842      F  0-17          10             A   \n",
       "3  1000001  P00085442      F  0-17          10             A   \n",
       "4  1000002  P00285442      M   55+          16             C   \n",
       "\n",
       "  Stay_In_Current_City_Years  Marital_Status  Product_Category_1  \\\n",
       "0                          2               0                   3   \n",
       "1                          2               0                   1   \n",
       "2                          2               0                  12   \n",
       "3                          2               0                  12   \n",
       "4                         4+               0                   8   \n",
       "\n",
       "   Product_Category_2  Product_Category_3  Purchase  purchase_std  \n",
       "0                 NaN                 NaN      8370     -0.193506  \n",
       "1                 6.0                14.0     15200      1.177698  \n",
       "2                 NaN                 NaN      1422     -1.588401  \n",
       "3                14.0                 NaN      1057     -1.661679  \n",
       "4                 NaN                 NaN      7969     -0.274012  "
      ]
     },
     "execution_count": 61,
     "metadata": {},
     "output_type": "execute_result"
    }
   ],
   "source": [
    "purchase = np.array(df.Purchase)\n",
    "media=df['Purchase'].mean()\n",
    "desvio=df['Purchase'].std()\n",
    "\n",
    "x_std=[]\n",
    "\n",
    "for x in purchase:\n",
    "    xs = (x-media)/desvio\n",
    "    x_std.append(xs)\n",
    "df['purchase_std'] = pd.DataFrame(x_std)\n",
    "df.head()"
   ]
  },
  {
   "cell_type": "code",
   "execution_count": 62,
   "metadata": {
    "ExecuteTime": {
     "end_time": "2020-06-24T03:50:41.406983Z",
     "start_time": "2020-06-24T03:50:41.313144Z"
    }
   },
   "outputs": [
    {
     "data": {
      "text/plain": [
       "348631"
      ]
     },
     "execution_count": 62,
     "metadata": {},
     "output_type": "execute_result"
    }
   ],
   "source": [
    "p_maiormenos1 = df['purchase_std']>-1\n",
    "p_menorigual1 = df['purchase_std']<=1\n",
    "questao9 = df[p_maiormenos1 & p_menorigual1]\n",
    "len(questao9['purchase_std'])"
   ]
  },
  {
   "cell_type": "markdown",
   "metadata": {},
   "source": [
    "## QUESTÃO 10: Podemos afirmar que se uma observação é null em Product_Category_2 ela também o é em Product_Category_3 ?"
   ]
  },
  {
   "cell_type": "code",
   "execution_count": 63,
   "metadata": {
    "ExecuteTime": {
     "end_time": "2020-06-24T03:50:41.422626Z",
     "start_time": "2020-06-24T03:50:41.409611Z"
    }
   },
   "outputs": [
    {
     "data": {
      "text/plain": [
       "0"
      ]
     },
     "execution_count": 63,
     "metadata": {},
     "output_type": "execute_result"
    }
   ],
   "source": [
    "prod2_null = df['Product_Category_2'].isnull()\n",
    "prod3_notnull = df['Product_Category_3'].notnull()\n",
    "len(df[prod2_null & prod3_notnull])"
   ]
  },
  {
   "cell_type": "markdown",
   "metadata": {},
   "source": [
    "## Questão 1\n",
    "\n",
    "Quantas observações e quantas colunas há no dataset? Responda no formato de uma tuple `(n_observacoes, n_colunas)`."
   ]
  },
  {
   "cell_type": "code",
   "execution_count": 75,
   "metadata": {
    "ExecuteTime": {
     "end_time": "2020-06-24T04:06:22.049351Z",
     "start_time": "2020-06-24T04:06:22.046066Z"
    }
   },
   "outputs": [],
   "source": [
    "def q1():\n",
    "    return (537577, 12)"
   ]
  },
  {
   "cell_type": "markdown",
   "metadata": {},
   "source": [
    "## Questão 2\n",
    "\n",
    "Há quantas mulheres com idade entre 26 e 35 anos no dataset? Responda como um único escalar."
   ]
  },
  {
   "cell_type": "code",
   "execution_count": 65,
   "metadata": {
    "ExecuteTime": {
     "end_time": "2020-06-24T03:50:41.441624Z",
     "start_time": "2020-06-24T03:50:41.437661Z"
    }
   },
   "outputs": [],
   "source": [
    "def q2():\n",
    "    return 49348"
   ]
  },
  {
   "cell_type": "markdown",
   "metadata": {},
   "source": [
    "## Questão 3\n",
    "\n",
    "Quantos usuários únicos há no dataset? Responda como um único escalar."
   ]
  },
  {
   "cell_type": "code",
   "execution_count": 66,
   "metadata": {
    "ExecuteTime": {
     "end_time": "2020-06-24T03:50:41.451815Z",
     "start_time": "2020-06-24T03:50:41.444906Z"
    }
   },
   "outputs": [],
   "source": [
    "def q3():\n",
    "    return 891"
   ]
  },
  {
   "cell_type": "markdown",
   "metadata": {},
   "source": [
    "## Questão 4\n",
    "\n",
    "Quantos tipos de dados diferentes existem no dataset? Responda como um único escalar."
   ]
  },
  {
   "cell_type": "code",
   "execution_count": 67,
   "metadata": {
    "ExecuteTime": {
     "end_time": "2020-06-24T03:50:41.460964Z",
     "start_time": "2020-06-24T03:50:41.456596Z"
    }
   },
   "outputs": [],
   "source": [
    "def q4():\n",
    "    return 3"
   ]
  },
  {
   "cell_type": "markdown",
   "metadata": {},
   "source": [
    "## Questão 5\n",
    "\n",
    "Qual porcentagem dos registros possui ao menos um valor null (`None`, `ǸaN` etc)? Responda como um único escalar entre 0 e 1."
   ]
  },
  {
   "cell_type": "code",
   "execution_count": 68,
   "metadata": {
    "ExecuteTime": {
     "end_time": "2020-06-24T03:50:41.467331Z",
     "start_time": "2020-06-24T03:50:41.464284Z"
    }
   },
   "outputs": [],
   "source": [
    "def q5():\n",
    "    return 0.6944102891306734"
   ]
  },
  {
   "cell_type": "markdown",
   "metadata": {},
   "source": [
    "## Questão 6\n",
    "\n",
    "Quantos valores null existem na variável (coluna) com o maior número de null? Responda como um único escalar."
   ]
  },
  {
   "cell_type": "code",
   "execution_count": 69,
   "metadata": {
    "ExecuteTime": {
     "end_time": "2020-06-24T03:50:41.475583Z",
     "start_time": "2020-06-24T03:50:41.471041Z"
    }
   },
   "outputs": [],
   "source": [
    "def q6():\n",
    "    return 373299"
   ]
  },
  {
   "cell_type": "markdown",
   "metadata": {},
   "source": [
    "## Questão 7\n",
    "\n",
    "Qual o valor mais frequente (sem contar nulls) em `Product_Category_3`? Responda como um único escalar."
   ]
  },
  {
   "cell_type": "code",
   "execution_count": 70,
   "metadata": {
    "ExecuteTime": {
     "end_time": "2020-06-24T03:50:41.486448Z",
     "start_time": "2020-06-24T03:50:41.478698Z"
    }
   },
   "outputs": [],
   "source": [
    "def q7():\n",
    "    return 16"
   ]
  },
  {
   "cell_type": "markdown",
   "metadata": {},
   "source": [
    "## Questão 8\n",
    "\n",
    "Qual a nova média da variável (coluna) `Purchase` após sua normalização? Responda como um único escalar."
   ]
  },
  {
   "cell_type": "code",
   "execution_count": 71,
   "metadata": {
    "ExecuteTime": {
     "end_time": "2020-06-24T03:50:41.494653Z",
     "start_time": "2020-06-24T03:50:41.490705Z"
    }
   },
   "outputs": [],
   "source": [
    "def q8():\n",
    "    return 0.384794"
   ]
  },
  {
   "cell_type": "markdown",
   "metadata": {},
   "source": [
    "## Questão 9\n",
    "\n",
    "Quantas ocorrências entre -1 e 1 inclusive existem da variáel `Purchase` após sua padronização? Responda como um único escalar."
   ]
  },
  {
   "cell_type": "code",
   "execution_count": 72,
   "metadata": {
    "ExecuteTime": {
     "end_time": "2020-06-24T03:50:41.502436Z",
     "start_time": "2020-06-24T03:50:41.497765Z"
    }
   },
   "outputs": [],
   "source": [
    "def q9():\n",
    "    return 348631"
   ]
  },
  {
   "cell_type": "markdown",
   "metadata": {},
   "source": [
    "## Questão 10\n",
    "\n",
    "Podemos afirmar que se uma observação é null em `Product_Category_2` ela também o é em `Product_Category_3`? Responda com um bool (`True`, `False`)."
   ]
  },
  {
   "cell_type": "code",
   "execution_count": 73,
   "metadata": {
    "ExecuteTime": {
     "end_time": "2020-06-24T03:50:41.511166Z",
     "start_time": "2020-06-24T03:50:41.506650Z"
    }
   },
   "outputs": [],
   "source": [
    "def q10():\n",
    "    return True"
   ]
  }
 ],
 "metadata": {
  "hide_input": false,
  "kernelspec": {
   "display_name": "Python 3",
   "language": "python",
   "name": "python3"
  },
  "language_info": {
   "codemirror_mode": {
    "name": "ipython",
    "version": 3
   },
   "file_extension": ".py",
   "mimetype": "text/x-python",
   "name": "python",
   "nbconvert_exporter": "python",
   "pygments_lexer": "ipython3",
   "version": "3.8.3"
  },
  "toc": {
   "base_numbering": 1,
   "nav_menu": {},
   "number_sections": true,
   "sideBar": true,
   "skip_h1_title": false,
   "title_cell": "Table of Contents",
   "title_sidebar": "Contents",
   "toc_cell": false,
   "toc_position": {},
   "toc_section_display": true,
   "toc_window_display": false
  }
 },
 "nbformat": 4,
 "nbformat_minor": 2
}
